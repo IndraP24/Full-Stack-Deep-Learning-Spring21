{
  "nbformat": 4,
  "nbformat_minor": 0,
  "metadata": {
    "colab": {
      "name": "Part 1: Basics | Coding a Neural Network",
      "provenance": [],
      "collapsed_sections": [],
      "authorship_tag": "ABX9TyN7O7Y4jv5ZdAR3TuBBHsMb",
      "include_colab_link": true
    },
    "kernelspec": {
      "name": "python3",
      "display_name": "Python 3"
    }
  },
  "cells": [
    {
      "cell_type": "markdown",
      "metadata": {
        "id": "view-in-github",
        "colab_type": "text"
      },
      "source": [
        "<a href=\"https://colab.research.google.com/github/IndraP24/Full-Stack-Deep-Learning-Spring21/blob/main/Deep%20Learning%20Fundamentals/Part%201%20Basics%20%7C%20Coding%20a%20Neural%20Network.ipynb\" target=\"_parent\"><img src=\"https://colab.research.google.com/assets/colab-badge.svg\" alt=\"Open In Colab\"/></a>"
      ]
    },
    {
      "cell_type": "markdown",
      "metadata": {
        "id": "-IU6zLnMKPbW"
      },
      "source": [
        "# Deep Learning Fundamentals - Part 1\r\n",
        "\r\n",
        "```\r\n",
        "# This is treated as a code block\r\n",
        "```\r\n",
        "---"
      ]
    },
    {
      "cell_type": "markdown",
      "metadata": {
        "id": "9HPLXzZHKU52"
      },
      "source": [
        "# Colab environment"
      ]
    },
    {
      "cell_type": "code",
      "metadata": {
        "colab": {
          "base_uri": "https://localhost:8080/"
        },
        "id": "MnswsGKnHyxQ",
        "outputId": "d6fe9021-2f0c-4d90-d378-cc3dbc81290d"
      },
      "source": [
        "!python --version"
      ],
      "execution_count": 1,
      "outputs": [
        {
          "output_type": "stream",
          "text": [
            "Python 3.7.10\n"
          ],
          "name": "stdout"
        }
      ]
    },
    {
      "cell_type": "code",
      "metadata": {
        "colab": {
          "base_uri": "https://localhost:8080/"
        },
        "id": "W_fRTwIjKd4v",
        "outputId": "caa2c4e9-fe9e-4c19-90b3-d86573e66aa0"
      },
      "source": [
        "!pip list | grep tensor"
      ],
      "execution_count": 2,
      "outputs": [
        {
          "output_type": "stream",
          "text": [
            "tensorboard                   2.4.1         \n",
            "tensorboard-plugin-wit        1.8.0         \n",
            "tensorflow                    2.4.1         \n",
            "tensorflow-datasets           4.0.1         \n",
            "tensorflow-estimator          2.4.0         \n",
            "tensorflow-gcs-config         2.4.0         \n",
            "tensorflow-hub                0.11.0        \n",
            "tensorflow-metadata           0.28.0        \n",
            "tensorflow-probability        0.12.1        \n"
          ],
          "name": "stdout"
        }
      ]
    },
    {
      "cell_type": "code",
      "metadata": {
        "colab": {
          "base_uri": "https://localhost:8080/"
        },
        "id": "pcyLYYFsKjC6",
        "outputId": "54e4c85e-2600-49eb-b3bc-d20ea34a4a31"
      },
      "source": [
        "!pip list | grep torch"
      ],
      "execution_count": 3,
      "outputs": [
        {
          "output_type": "stream",
          "text": [
            "torch                         1.7.1+cu101   \n",
            "torchsummary                  1.5.1         \n",
            "torchtext                     0.3.1         \n",
            "torchvision                   0.8.2+cu101   \n"
          ],
          "name": "stdout"
        }
      ]
    },
    {
      "cell_type": "code",
      "metadata": {
        "colab": {
          "base_uri": "https://localhost:8080/"
        },
        "id": "odKNjqC9KosU",
        "outputId": "40dba170-60a7-43f5-f6fa-8aa2fba89226"
      },
      "source": [
        "!nvidia-smi"
      ],
      "execution_count": 4,
      "outputs": [
        {
          "output_type": "stream",
          "text": [
            "NVIDIA-SMI has failed because it couldn't communicate with the NVIDIA driver. Make sure that the latest NVIDIA driver is installed and running.\n",
            "\n"
          ],
          "name": "stdout"
        }
      ]
    },
    {
      "cell_type": "markdown",
      "metadata": {
        "id": "lCvoagK2OiB8"
      },
      "source": [
        "# Basic Numerical Computing"
      ]
    },
    {
      "cell_type": "code",
      "metadata": {
        "colab": {
          "base_uri": "https://localhost:8080/"
        },
        "id": "n7OlFu2NKuSL",
        "outputId": "00290d80-08c4-4395-a75d-6923dc4742c8"
      },
      "source": [
        "import numpy as np\r\n",
        "\r\n",
        "# Initialize a numpy ndarray 3 rows , 2 cols\r\n",
        "X = np.zeros((3, 2))\r\n",
        "X"
      ],
      "execution_count": 5,
      "outputs": [
        {
          "output_type": "execute_result",
          "data": {
            "text/plain": [
              "array([[0., 0.],\n",
              "       [0., 0.],\n",
              "       [0., 0.]])"
            ]
          },
          "metadata": {
            "tags": []
          },
          "execution_count": 5
        }
      ]
    },
    {
      "cell_type": "code",
      "metadata": {
        "colab": {
          "base_uri": "https://localhost:8080/"
        },
        "id": "nkoGWo36MM2Y",
        "outputId": "e2f45d72-23d2-4ff7-99c7-6875ed2aa7af"
      },
      "source": [
        "# By default, ndarrays are float64\r\n",
        "X.shape, X.dtype"
      ],
      "execution_count": 6,
      "outputs": [
        {
          "output_type": "execute_result",
          "data": {
            "text/plain": [
              "((3, 2), dtype('float64'))"
            ]
          },
          "metadata": {
            "tags": []
          },
          "execution_count": 6
        }
      ]
    },
    {
      "cell_type": "code",
      "metadata": {
        "colab": {
          "base_uri": "https://localhost:8080/"
        },
        "id": "8juYoao_MShZ",
        "outputId": "cec80790-36f8-4a86-ff5f-23e6a87c9b75"
      },
      "source": [
        "# We can set values of a whole row\r\n",
        "X[0, :] = 1\r\n",
        "X"
      ],
      "execution_count": 7,
      "outputs": [
        {
          "output_type": "execute_result",
          "data": {
            "text/plain": [
              "array([[1., 1.],\n",
              "       [0., 0.],\n",
              "       [0., 0.]])"
            ]
          },
          "metadata": {
            "tags": []
          },
          "execution_count": 7
        }
      ]
    },
    {
      "cell_type": "code",
      "metadata": {
        "colab": {
          "base_uri": "https://localhost:8080/"
        },
        "id": "4IbhtboOMred",
        "outputId": "52ea631b-bc9e-4ed8-b38a-6b568a08132c"
      },
      "source": [
        "# We can set values of a whole colummn\r\n",
        "X[:, 0] = 2\r\n",
        "X"
      ],
      "execution_count": 8,
      "outputs": [
        {
          "output_type": "execute_result",
          "data": {
            "text/plain": [
              "array([[2., 1.],\n",
              "       [2., 0.],\n",
              "       [2., 0.]])"
            ]
          },
          "metadata": {
            "tags": []
          },
          "execution_count": 8
        }
      ]
    },
    {
      "cell_type": "code",
      "metadata": {
        "colab": {
          "base_uri": "https://localhost:8080/"
        },
        "id": "UBBpmB1eNBFr",
        "outputId": "eaf0b90c-f1e8-436e-a9a9-beef66ba10f0"
      },
      "source": [
        "X = np.array([\r\n",
        "              [1, 2],\r\n",
        "              [3, 4],\r\n",
        "              [5, 6]\r\n",
        "])\r\n",
        "X"
      ],
      "execution_count": 9,
      "outputs": [
        {
          "output_type": "execute_result",
          "data": {
            "text/plain": [
              "array([[1, 2],\n",
              "       [3, 4],\n",
              "       [5, 6]])"
            ]
          },
          "metadata": {
            "tags": []
          },
          "execution_count": 9
        }
      ]
    },
    {
      "cell_type": "code",
      "metadata": {
        "colab": {
          "base_uri": "https://localhost:8080/"
        },
        "id": "E6g52EbVNNCM",
        "outputId": "ed0d24b9-b009-49e3-cd96-189644f5984a"
      },
      "source": [
        "x = np.array([10, 20])\r\n",
        "print(X.shape, x.shape)\r\n",
        "\r\n",
        "# We can add ndarrays of different dimensions\r\n",
        "X + x #Broadcasting"
      ],
      "execution_count": 10,
      "outputs": [
        {
          "output_type": "stream",
          "text": [
            "(3, 2) (2,)\n"
          ],
          "name": "stdout"
        },
        {
          "output_type": "execute_result",
          "data": {
            "text/plain": [
              "array([[11, 22],\n",
              "       [13, 24],\n",
              "       [15, 26]])"
            ]
          },
          "metadata": {
            "tags": []
          },
          "execution_count": 10
        }
      ]
    },
    {
      "cell_type": "code",
      "metadata": {
        "colab": {
          "base_uri": "https://localhost:8080/"
        },
        "id": "L_NsyQQiNbme",
        "outputId": "8d7ca4c9-3bf8-45ae-88eb-d4344d95b34e"
      },
      "source": [
        "# Element-wise multiplication\r\n",
        "\r\n",
        "X * x"
      ],
      "execution_count": 11,
      "outputs": [
        {
          "output_type": "execute_result",
          "data": {
            "text/plain": [
              "array([[ 10,  40],\n",
              "       [ 30,  80],\n",
              "       [ 50, 120]])"
            ]
          },
          "metadata": {
            "tags": []
          },
          "execution_count": 11
        }
      ]
    },
    {
      "cell_type": "code",
      "metadata": {
        "colab": {
          "base_uri": "https://localhost:8080/"
        },
        "id": "SYKw-rhYOGj_",
        "outputId": "470c3b5b-39a9-4bfa-c3b2-2a8b9cc81b26"
      },
      "source": [
        "# Matrix multiplication\r\n",
        "\r\n",
        "x = np.array([[10, 20], ]).T\r\n",
        "result = X @ x # alternatively, np.dot(X, x)\r\n",
        "result"
      ],
      "execution_count": 12,
      "outputs": [
        {
          "output_type": "execute_result",
          "data": {
            "text/plain": [
              "array([[ 50],\n",
              "       [110],\n",
              "       [170]])"
            ]
          },
          "metadata": {
            "tags": []
          },
          "execution_count": 12
        }
      ]
    },
    {
      "cell_type": "markdown",
      "metadata": {
        "id": "2cnCzn7SOlq_"
      },
      "source": [
        "## Indexing"
      ]
    },
    {
      "cell_type": "code",
      "metadata": {
        "colab": {
          "base_uri": "https://localhost:8080/"
        },
        "id": "1S3DKNaHOQnC",
        "outputId": "9a261555-d559-4dcb-ad6c-90def54549a2"
      },
      "source": [
        "X = np.random.rand(3, 2)\r\n",
        "X"
      ],
      "execution_count": 13,
      "outputs": [
        {
          "output_type": "execute_result",
          "data": {
            "text/plain": [
              "array([[0.40745503, 0.6526022 ],\n",
              "       [0.241981  , 0.55896261],\n",
              "       [0.79598356, 0.82409804]])"
            ]
          },
          "metadata": {
            "tags": []
          },
          "execution_count": 13
        }
      ]
    },
    {
      "cell_type": "code",
      "metadata": {
        "colab": {
          "base_uri": "https://localhost:8080/"
        },
        "id": "Av_dRCzEO3Yn",
        "outputId": "11f57ef4-7a65-47d9-caa9-d46f571968e5"
      },
      "source": [
        "X > 0.5"
      ],
      "execution_count": 14,
      "outputs": [
        {
          "output_type": "execute_result",
          "data": {
            "text/plain": [
              "array([[False,  True],\n",
              "       [False,  True],\n",
              "       [ True,  True]])"
            ]
          },
          "metadata": {
            "tags": []
          },
          "execution_count": 14
        }
      ]
    },
    {
      "cell_type": "code",
      "metadata": {
        "colab": {
          "base_uri": "https://localhost:8080/"
        },
        "id": "MokSMNQ2O43W",
        "outputId": "7e4924b8-c5f8-49e1-afd0-7bae578ce99a"
      },
      "source": [
        "X[X > 0.5] = 1\r\n",
        "X"
      ],
      "execution_count": 15,
      "outputs": [
        {
          "output_type": "execute_result",
          "data": {
            "text/plain": [
              "array([[0.40745503, 1.        ],\n",
              "       [0.241981  , 1.        ],\n",
              "       [1.        , 1.        ]])"
            ]
          },
          "metadata": {
            "tags": []
          },
          "execution_count": 15
        }
      ]
    },
    {
      "cell_type": "markdown",
      "metadata": {
        "id": "stAij_iJPCUx"
      },
      "source": [
        "# Basic Plotting"
      ]
    },
    {
      "cell_type": "code",
      "metadata": {
        "colab": {
          "base_uri": "https://localhost:8080/",
          "height": 35
        },
        "id": "Ip0_CIrTO8U-",
        "outputId": "066b7306-362e-46d1-9083-999f4111ff4a"
      },
      "source": [
        "import matplotlib.pyplot as plt\r\n",
        "import matplotlib\r\n",
        "plt.set_cmap('gray')\r\n",
        "matplotlib.rcParams['figure.figsize'] = (12, 8)"
      ],
      "execution_count": 16,
      "outputs": [
        {
          "output_type": "display_data",
          "data": {
            "text/plain": [
              "<Figure size 432x288 with 0 Axes>"
            ]
          },
          "metadata": {
            "tags": []
          }
        }
      ]
    },
    {
      "cell_type": "code",
      "metadata": {
        "colab": {
          "base_uri": "https://localhost:8080/",
          "height": 495
        },
        "id": "ni7ExCFVPI2I",
        "outputId": "9e0de21f-bccc-4f67-91d5-e30614278fbe"
      },
      "source": [
        "X = np.random.rand(100, 100)\r\n",
        "plt.matshow(X)\r\n",
        "plt.colorbar()"
      ],
      "execution_count": 17,
      "outputs": [
        {
          "output_type": "execute_result",
          "data": {
            "text/plain": [
              "<matplotlib.colorbar.Colorbar at 0x7efee0be5810>"
            ]
          },
          "metadata": {
            "tags": []
          },
          "execution_count": 17
        },
        {
          "output_type": "display_data",
          "data": {
            "image/png": "[encoded data removed]",
            "text/plain": [
              "<Figure size 576x576 with 2 Axes>"
            ]
          },
          "metadata": {
            "tags": [],
            "needs_background": "light"
          }
        }
      ]
    },
    {
      "cell_type": "code",
      "metadata": {
        "colab": {
          "base_uri": "https://localhost:8080/",
          "height": 501
        },
        "id": "LiSaksdcPRya",
        "outputId": "bded32bb-da72-4762-9aaf-b6462e19e33f"
      },
      "source": [
        "x = np.linspace(0, 100)\r\n",
        "y = x * 5 + 10\r\n",
        "\r\n",
        "plt.plot(x, y, 'x-')"
      ],
      "execution_count": 18,
      "outputs": [
        {
          "output_type": "execute_result",
          "data": {
            "text/plain": [
              "[<matplotlib.lines.Line2D at 0x7efee1264910>]"
            ]
          },
          "metadata": {
            "tags": []
          },
          "execution_count": 18
        },
        {
          "output_type": "display_data",
          "data": {
            "image/png": "[encoded data removed]",
            "text/plain": [
              "<Figure size 864x576 with 1 Axes>"
            ]
          },
          "metadata": {
            "tags": [],
            "needs_background": "light"
          }
        }
      ]
    },
    {
      "cell_type": "markdown",
      "metadata": {
        "id": "mtnFThgyPeOg"
      },
      "source": [
        "# Basic Regression with a linear model\r\n",
        "\r\n",
        "x is 1-dimensional"
      ]
    },
    {
      "cell_type": "code",
      "metadata": {
        "colab": {
          "base_uri": "https://localhost:8080/",
          "height": 519
        },
        "id": "7Fq0igscPbq-",
        "outputId": "160d9334-054c-4ab2-aa08-2bf1a111e2d9"
      },
      "source": [
        "n = 50\r\n",
        "\r\n",
        "d = 1\r\n",
        "X = np.random.uniform(-1, 1, (n, d))\r\n",
        "\r\n",
        "# y = 5x + 10\r\n",
        "weights_true = np.array([[5], ])\r\n",
        "bias_true = np.array([10])\r\n",
        "\r\n",
        "y_true = X @ weights_true + bias_true\r\n",
        "print(f'X: {X.shape}, Weights: {weights_true.shape}, Bias: {bias_true.shape}, y: {y_true.shape}')\r\n",
        "\r\n",
        "plt.plot(X, y_true, marker='X', label=\"Underlying Function\")\r\n",
        "plt.legend()"
      ],
      "execution_count": 19,
      "outputs": [
        {
          "output_type": "stream",
          "text": [
            "X: (50, 1), Weights: (1, 1), Bias: (1,), y: (50, 1)\n"
          ],
          "name": "stdout"
        },
        {
          "output_type": "execute_result",
          "data": {
            "text/plain": [
              "<matplotlib.legend.Legend at 0x7efee0610a10>"
            ]
          },
          "metadata": {
            "tags": []
          },
          "execution_count": 19
        },
        {
          "output_type": "display_data",
          "data": {
            "image/png": "[encoded data removed]",
            "text/plain": [
              "<Figure size 864x576 with 1 Axes>"
            ]
          },
          "metadata": {
            "tags": [],
            "needs_background": "light"
          }
        }
      ]
    },
    {
      "cell_type": "markdown",
      "metadata": {
        "id": "dm0ucu7rR3sm"
      },
      "source": [
        "## Basic Prediction function: Linear"
      ]
    },
    {
      "cell_type": "code",
      "metadata": {
        "colab": {
          "base_uri": "https://localhost:8080/",
          "height": 501
        },
        "id": "eLLot0wRQngk",
        "outputId": "0a6c2335-5853-4e42-b7db-0050be435ed9"
      },
      "source": [
        "# Initailizing our predictions\r\n",
        "\r\n",
        "\r\n",
        "class Linear:\r\n",
        "    def __init__(self, num_input, num_output=1):\r\n",
        "        # The initialization is important to properly deal with different input\r\n",
        "        # sizes (otherwise gradients quickly go to 0).\r\n",
        "        self.weights = np.random.randn(num_input, num_output) * np.sqrt(2. / num_input)\r\n",
        "        self.bias = np.zeros((1))\r\n",
        "\r\n",
        "    def __call__(self, X):\r\n",
        "        return X @ self.weights + self.bias\r\n",
        "\r\n",
        "linear = Linear(d)\r\n",
        "y_pred = linear(X)\r\n",
        "plt.plot(X, y_true, marker=\"X\", label=\"Underlying Function\")\r\n",
        "plt.scatter(X, y_pred, color='r', marker='.', label=\"Our Function\")\r\n",
        "plt.legend()"
      ],
      "execution_count": 20,
      "outputs": [
        {
          "output_type": "execute_result",
          "data": {
            "text/plain": [
              "<matplotlib.legend.Legend at 0x7efee0551b90>"
            ]
          },
          "metadata": {
            "tags": []
          },
          "execution_count": 20
        },
        {
          "output_type": "display_data",
          "data": {
            "image/png": "[encoded data removed]",
            "text/plain": [
              "<Figure size 864x576 with 1 Axes>"
            ]
          },
          "metadata": {
            "tags": [],
            "needs_background": "light"
          }
        }
      ]
    },
    {
      "cell_type": "markdown",
      "metadata": {
        "id": "RPdToeVxVMG8"
      },
      "source": [
        "## Basic Loss Function: MSE"
      ]
    },
    {
      "cell_type": "code",
      "metadata": {
        "colab": {
          "base_uri": "https://localhost:8080/"
        },
        "id": "ULn_VAryUWu4",
        "outputId": "f2ecc557-5cdd-4779-8c94-3e2c3f789039"
      },
      "source": [
        "# How wrong are these initial predictions, exactly?\r\n",
        "# It's up to us, and our definition is called the loss function.\r\n",
        "# Let's use the Mean Squared Error (MSE), as our loss function.\r\n",
        "\r\n",
        "class MSE:\r\n",
        "    def __call__(self, y_pred, y_true):\r\n",
        "        self.y_pred = y_pred\r\n",
        "        self.y_true = y_true\r\n",
        "        return ((y_true - y_pred) ** 2).mean()\r\n",
        "\r\n",
        "loss = MSE()\r\n",
        "print(f'Our initial loss is {loss(y_pred, y_true)}')"
      ],
      "execution_count": 21,
      "outputs": [
        {
          "output_type": "stream",
          "text": [
            "Our initial loss is 104.07267639221523\n"
          ],
          "name": "stdout"
        }
      ]
    },
    {
      "cell_type": "markdown",
      "metadata": {
        "id": "GppH8ECnYjJp"
      },
      "source": [
        "## Back propagation"
      ]
    },
    {
      "cell_type": "code",
      "metadata": {
        "id": "bW8V6YsHVWXC"
      },
      "source": [
        "# Let's use gradient descent to learn the weights and bias that minimizes the loss function.\r\n",
        "# For this, we need the gradient of the loss function and the gradients of the linear function.\r\n",
        "\r\n",
        "class MSE:\r\n",
        "    def __call__(self, y_pred, y_true):\r\n",
        "        self.y_pred = y_pred\r\n",
        "        self.y_true = y_true\r\n",
        "        return ((y_pred - y_true) ** 2).mean()\r\n",
        "\r\n",
        "    def backward(self):\r\n",
        "        n = self.y_true.shape[0]\r\n",
        "        self.gradient = 2. * (self.y_pred - self.y_true) / n\r\n",
        "        return self.gradient\r\n",
        "\r\n",
        "\r\n",
        "class Linear:\r\n",
        "    def __init__(self, input_dim: int, num_hidden: int = 1):\r\n",
        "        self.weights = np.random.randn(input_dim, num_hidden) - 0.5\r\n",
        "        self.bias = np.random.randn(1) - 0.5\r\n",
        "\r\n",
        "    def __call__(self, X):\r\n",
        "        self.X = X\r\n",
        "        output = X @ self.weights + self.bias\r\n",
        "        return output\r\n",
        "\r\n",
        "    # y = w*x + b\r\n",
        "    # dy/dx = w\r\n",
        "    # dy/dw = X\r\n",
        "    # dy/db = 1\r\n",
        "\r\n",
        "    def backward(self, gradient):\r\n",
        "        self.weights_gradient = self.X.T @ gradient\r\n",
        "        self.bias_gradient = gradient.sum()\r\n",
        "        self.X_gradient = gradient @ self.weights.T\r\n",
        "        return self.X_gradient\r\n",
        "\r\n",
        "    def update(self, lr):\r\n",
        "        self.weights = self.weights - lr * self.weights_gradient\r\n",
        "        self.bias = self.bias - lr * self.bias_gradient"
      ],
      "execution_count": 22,
      "outputs": []
    },
    {
      "cell_type": "code",
      "metadata": {
        "colab": {
          "base_uri": "https://localhost:8080/"
        },
        "id": "A8mbVKONbw-L",
        "outputId": "9c30e754-6f8f-4f42-c463-601b899f1519"
      },
      "source": [
        "# Taking one step forward and one step backward to make sure nothing breaks, \r\n",
        "# and that the loss decreases\r\n",
        "\r\n",
        "loss = MSE()\r\n",
        "linear = Linear(d)\r\n",
        "y_pred = linear(X)\r\n",
        "print(loss(y_pred, y_true))\r\n",
        "loss_gradient = loss.backward()\r\n",
        "linear.backward(loss_gradient)\r\n",
        "linear.update(0.1)\r\n",
        "y_pred = linear(X)\r\n",
        "print(loss(y_pred, y_true))"
      ],
      "execution_count": 23,
      "outputs": [
        {
          "output_type": "stream",
          "text": [
            "100.47165138153626\n",
            "67.95647027084102\n"
          ],
          "name": "stdout"
        }
      ]
    },
    {
      "cell_type": "markdown",
      "metadata": {
        "id": "UOwHGRlXctN4"
      },
      "source": [
        "## Train using Gradient Descent"
      ]
    },
    {
      "cell_type": "code",
      "metadata": {
        "id": "AYajY9pTcbmB",
        "colab": {
          "base_uri": "https://localhost:8080/",
          "height": 680
        },
        "outputId": "23558dae-739b-4c44-cb83-1655c108724d"
      },
      "source": [
        "plt.plot(X, y_true, marker='x', label='Underlying Function')\r\n",
        "\r\n",
        "loss = MSE()\r\n",
        "linear = Linear(d)\r\n",
        "\r\n",
        "num_epochs = 60\r\n",
        "lr = 0.1\r\n",
        "\r\n",
        "for epoch in range(num_epochs):\r\n",
        "    y_pred = linear(X)\r\n",
        "    loss_value = loss(y_pred, y_true)\r\n",
        "\r\n",
        "    if epoch % 5 == 0:\r\n",
        "        print(f'Epoch {epoch}, loss {loss_value}')\r\n",
        "        plt.plot(X, y_pred.squeeze(), label=f'Epoch {epoch}')\r\n",
        "\r\n",
        "    gradient_from_loss = loss.backward()\r\n",
        "    linear.backward(gradient_from_loss)\r\n",
        "    linear.update(lr)\r\n",
        "\r\n",
        "plt.legend(bbox_to_anchor = (1.04, 1), loc=\"upper left\");"
      ],
      "execution_count": 24,
      "outputs": [
        {
          "output_type": "stream",
          "text": [
            "Epoch 0, loss 118.43343178333572\n",
            "Epoch 5, loss 16.982461908513486\n",
            "Epoch 10, loss 3.834926981509169\n",
            "Epoch 15, loss 1.350881721854588\n",
            "Epoch 20, loss 0.5825178990351955\n",
            "Epoch 25, loss 0.26622954393212034\n",
            "Epoch 30, loss 0.12340802898014001\n",
            "Epoch 35, loss 0.05739284731419679\n",
            "Epoch 40, loss 0.026711624957744585\n",
            "Epoch 45, loss 0.012434207888275676\n",
            "Epoch 50, loss 0.005788328858803557\n",
            "Epoch 55, loss 0.002694587098322379\n"
          ],
          "name": "stdout"
        },
        {
          "output_type": "display_data",
          "data": {
            "image/png": "[encoded data removed]",
            "text/plain": [
              "<Figure size 864x576 with 1 Axes>"
            ]
          },
          "metadata": {
            "tags": [],
            "needs_background": "light"
          }
        }
      ]
    },
    {
      "cell_type": "markdown",
      "metadata": {
        "id": "LeNrFs1Fohmk"
      },
      "source": [
        "## 2-Dimensional Inputs"
      ]
    },
    {
      "cell_type": "code",
      "metadata": {
        "id": "eV8mhit3kQd0"
      },
      "source": [
        "n = 100\r\n",
        "d = 2\r\n",
        "X = np.random.uniform(-1, 1, (n, d))\r\n",
        "\r\n",
        "\r\n",
        "weights_true = np.array([[2, -1], ]).T\r\n",
        "bias_true = np.array([0.5])\r\n",
        "print(X.shape, weights_true.shape, bias_true.shape)\r\n",
        "\r\n",
        "y_true = X @ weights_true + bias_true\r\n",
        "print(f'X: {X.shape}, weights: {weights_true.shape}, bias: {bias_true.shape}, y: {y_true.shape}')\r\n",
        "\r\n",
        "def plot_3d(X, y, y_pred=None):\r\n",
        "    import matplotlib.pyplot as plt\r\n",
        "    from mpl_toolkits.mplot3d import Axes3D\r\n",
        "    fig = plt.figure()\r\n",
        "    ax = fig.add_subplot(111, projection='3d')\r\n",
        "    ax.scatter(X[:, 0], )"
      ],
      "execution_count": null,
      "outputs": []
    }
  ]
}
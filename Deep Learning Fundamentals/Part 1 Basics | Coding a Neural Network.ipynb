{
  "nbformat": 4,
  "nbformat_minor": 0,
  "metadata": {
    "colab": {
      "name": "Part 1: Basics | Coding a Neural Network",
      "provenance": [],
      "collapsed_sections": [],
      "toc_visible": true,
      "authorship_tag": "ABX9TyPlOOEUMg3PX/4WSA18pqsD",
      "include_colab_link": true
    },
    "kernelspec": {
      "name": "python3",
      "display_name": "Python 3"
    }
  },
  "cells": [
    {
      "cell_type": "markdown",
      "metadata": {
        "id": "view-in-github",
        "colab_type": "text"
      },
      "source": [
        "<a href=\"https://colab.research.google.com/github/IndraP24/Full-Stack-Deep-Learning-Spring21/blob/main/Deep%20Learning%20Fundamentals/Part%201%20Basics%20%7C%20Coding%20a%20Neural%20Network.ipynb\" target=\"_parent\"><img src=\"https://colab.research.google.com/assets/colab-badge.svg\" alt=\"Open In Colab\"/></a>"
      ]
    },
    {
      "cell_type": "markdown",
      "metadata": {
        "id": "-IU6zLnMKPbW"
      },
      "source": [
        "# Deep Learning Fundamentals - Part 1\r\n",
        "\r\n",
        "```\r\n",
        "# This is treated as a code block\r\n",
        "```\r\n",
        "---"
      ]
    },
    {
      "cell_type": "markdown",
      "metadata": {
        "id": "9HPLXzZHKU52"
      },
      "source": [
        "# Colab environment"
      ]
    },
    {
      "cell_type": "code",
      "metadata": {
        "colab": {
          "base_uri": "https://localhost:8080/"
        },
        "id": "MnswsGKnHyxQ",
        "outputId": "1ec11fc9-fe66-4b81-add4-700e158d4398"
      },
      "source": [
        "!python --version"
      ],
      "execution_count": 2,
      "outputs": [
        {
          "output_type": "stream",
          "text": [
            "Python 3.6.9\n"
          ],
          "name": "stdout"
        }
      ]
    },
    {
      "cell_type": "code",
      "metadata": {
        "colab": {
          "base_uri": "https://localhost:8080/"
        },
        "id": "W_fRTwIjKd4v",
        "outputId": "d3971633-1b3b-4b7b-f853-7bc9f0428634"
      },
      "source": [
        "!pip list | grep tensor"
      ],
      "execution_count": 3,
      "outputs": [
        {
          "output_type": "stream",
          "text": [
            "tensorboard                   2.4.1          \n",
            "tensorboard-plugin-wit        1.8.0          \n",
            "tensorflow                    2.4.1          \n",
            "tensorflow-datasets           4.0.1          \n",
            "tensorflow-estimator          2.4.0          \n",
            "tensorflow-gcs-config         2.4.0          \n",
            "tensorflow-hub                0.11.0         \n",
            "tensorflow-metadata           0.27.0         \n",
            "tensorflow-probability        0.12.1         \n"
          ],
          "name": "stdout"
        }
      ]
    },
    {
      "cell_type": "code",
      "metadata": {
        "colab": {
          "base_uri": "https://localhost:8080/"
        },
        "id": "pcyLYYFsKjC6",
        "outputId": "0c3dc80e-388a-43a1-bdaa-03ba03593fb5"
      },
      "source": [
        "!pip list | grep torch"
      ],
      "execution_count": 4,
      "outputs": [
        {
          "output_type": "stream",
          "text": [
            "torch                         1.7.0+cu101    \n",
            "torchsummary                  1.5.1          \n",
            "torchtext                     0.3.1          \n",
            "torchvision                   0.8.1+cu101    \n"
          ],
          "name": "stdout"
        }
      ]
    },
    {
      "cell_type": "code",
      "metadata": {
        "colab": {
          "base_uri": "https://localhost:8080/"
        },
        "id": "odKNjqC9KosU",
        "outputId": "0000da1a-312d-489b-e427-bca55a77b6a2"
      },
      "source": [
        "!nvidia-smi"
      ],
      "execution_count": 5,
      "outputs": [
        {
          "output_type": "stream",
          "text": [
            "Mon Feb 22 19:20:02 2021       \n",
            "+-----------------------------------------------------------------------------+\n",
            "| NVIDIA-SMI 460.39       Driver Version: 460.32.03    CUDA Version: 11.2     |\n",
            "|-------------------------------+----------------------+----------------------+\n",
            "| GPU  Name        Persistence-M| Bus-Id        Disp.A | Volatile Uncorr. ECC |\n",
            "| Fan  Temp  Perf  Pwr:Usage/Cap|         Memory-Usage | GPU-Util  Compute M. |\n",
            "|                               |                      |               MIG M. |\n",
            "|===============================+======================+======================|\n",
            "|   0  Tesla P100-PCIE...  Off  | 00000000:00:04.0 Off |                    0 |\n",
            "| N/A   45C    P0    25W / 250W |      0MiB / 16280MiB |      0%      Default |\n",
            "|                               |                      |                  N/A |\n",
            "+-------------------------------+----------------------+----------------------+\n",
            "                                                                               \n",
            "+-----------------------------------------------------------------------------+\n",
            "| Processes:                                                                  |\n",
            "|  GPU   GI   CI        PID   Type   Process name                  GPU Memory |\n",
            "|        ID   ID                                                   Usage      |\n",
            "|=============================================================================|\n",
            "|  No running processes found                                                 |\n",
            "+-----------------------------------------------------------------------------+\n"
          ],
          "name": "stdout"
        }
      ]
    },
    {
      "cell_type": "markdown",
      "metadata": {
        "id": "lCvoagK2OiB8"
      },
      "source": [
        "# Basic Numerical Computing"
      ]
    },
    {
      "cell_type": "code",
      "metadata": {
        "colab": {
          "base_uri": "https://localhost:8080/"
        },
        "id": "n7OlFu2NKuSL",
        "outputId": "10479b15-3d92-4222-fd8d-a64737ea6ee8"
      },
      "source": [
        "import numpy as np\r\n",
        "\r\n",
        "# Initialize a numpy ndarray 3 rows , 2 cols\r\n",
        "X = np.zeros((3, 2))\r\n",
        "X"
      ],
      "execution_count": 5,
      "outputs": [
        {
          "output_type": "execute_result",
          "data": {
            "text/plain": [
              "array([[0., 0.],\n",
              "       [0., 0.],\n",
              "       [0., 0.]])"
            ]
          },
          "metadata": {
            "tags": []
          },
          "execution_count": 5
        }
      ]
    },
    {
      "cell_type": "code",
      "metadata": {
        "colab": {
          "base_uri": "https://localhost:8080/"
        },
        "id": "nkoGWo36MM2Y",
        "outputId": "6fd16910-058c-42d7-e9ff-ff63bafda8d5"
      },
      "source": [
        "# By default, ndarrays are float64\r\n",
        "X.shape, X.dtype"
      ],
      "execution_count": 6,
      "outputs": [
        {
          "output_type": "execute_result",
          "data": {
            "text/plain": [
              "((3, 2), dtype('float64'))"
            ]
          },
          "metadata": {
            "tags": []
          },
          "execution_count": 6
        }
      ]
    },
    {
      "cell_type": "code",
      "metadata": {
        "colab": {
          "base_uri": "https://localhost:8080/"
        },
        "id": "8juYoao_MShZ",
        "outputId": "671549af-8de5-485c-8fd6-73b61c2eb4fb"
      },
      "source": [
        "# We can set values of a whole row\r\n",
        "X[0, :] = 1\r\n",
        "X"
      ],
      "execution_count": 7,
      "outputs": [
        {
          "output_type": "execute_result",
          "data": {
            "text/plain": [
              "array([[1., 1.],\n",
              "       [0., 0.],\n",
              "       [0., 0.]])"
            ]
          },
          "metadata": {
            "tags": []
          },
          "execution_count": 7
        }
      ]
    },
    {
      "cell_type": "code",
      "metadata": {
        "colab": {
          "base_uri": "https://localhost:8080/"
        },
        "id": "4IbhtboOMred",
        "outputId": "c5bde8bc-a86e-4119-9d93-a0420d75e016"
      },
      "source": [
        "# We can set values of a whole colummn\r\n",
        "X[:, 0] = 2\r\n",
        "X"
      ],
      "execution_count": 8,
      "outputs": [
        {
          "output_type": "execute_result",
          "data": {
            "text/plain": [
              "array([[2., 1.],\n",
              "       [2., 0.],\n",
              "       [2., 0.]])"
            ]
          },
          "metadata": {
            "tags": []
          },
          "execution_count": 8
        }
      ]
    },
    {
      "cell_type": "code",
      "metadata": {
        "colab": {
          "base_uri": "https://localhost:8080/"
        },
        "id": "UBBpmB1eNBFr",
        "outputId": "62f881d3-4db3-4091-fd25-eb9cdc889531"
      },
      "source": [
        "X = np.array([\r\n",
        "              [1, 2],\r\n",
        "              [3, 4],\r\n",
        "              [5, 6]\r\n",
        "])\r\n",
        "X"
      ],
      "execution_count": 9,
      "outputs": [
        {
          "output_type": "execute_result",
          "data": {
            "text/plain": [
              "array([[1, 2],\n",
              "       [3, 4],\n",
              "       [5, 6]])"
            ]
          },
          "metadata": {
            "tags": []
          },
          "execution_count": 9
        }
      ]
    },
    {
      "cell_type": "code",
      "metadata": {
        "colab": {
          "base_uri": "https://localhost:8080/"
        },
        "id": "E6g52EbVNNCM",
        "outputId": "173d5887-e749-4515-9866-a962b0cc4bd6"
      },
      "source": [
        "x = np.array([10, 20])\r\n",
        "print(X.shape, x.shape)\r\n",
        "\r\n",
        "# We can add ndarrays of different dimensions\r\n",
        "X + x #Broadcasting"
      ],
      "execution_count": 12,
      "outputs": [
        {
          "output_type": "stream",
          "text": [
            "(3, 2) (2,)\n"
          ],
          "name": "stdout"
        },
        {
          "output_type": "execute_result",
          "data": {
            "text/plain": [
              "array([[11, 22],\n",
              "       [13, 24],\n",
              "       [15, 26]])"
            ]
          },
          "metadata": {
            "tags": []
          },
          "execution_count": 12
        }
      ]
    },
    {
      "cell_type": "code",
      "metadata": {
        "colab": {
          "base_uri": "https://localhost:8080/"
        },
        "id": "L_NsyQQiNbme",
        "outputId": "e3f5900e-b6f6-4169-fdf0-46439d68378c"
      },
      "source": [
        "# Element-wise multiplication\r\n",
        "\r\n",
        "X * x"
      ],
      "execution_count": 13,
      "outputs": [
        {
          "output_type": "execute_result",
          "data": {
            "text/plain": [
              "array([[ 10,  40],\n",
              "       [ 30,  80],\n",
              "       [ 50, 120]])"
            ]
          },
          "metadata": {
            "tags": []
          },
          "execution_count": 13
        }
      ]
    },
    {
      "cell_type": "code",
      "metadata": {
        "colab": {
          "base_uri": "https://localhost:8080/"
        },
        "id": "SYKw-rhYOGj_",
        "outputId": "949ce99e-056c-44fd-da77-c6197f28ce3d"
      },
      "source": [
        "# Matrix multiplication\r\n",
        "\r\n",
        "x = np.array([[10, 20], ]).T\r\n",
        "result = X @ x # alternatively, np.dot(X, x)\r\n",
        "result"
      ],
      "execution_count": 15,
      "outputs": [
        {
          "output_type": "execute_result",
          "data": {
            "text/plain": [
              "array([[ 50],\n",
              "       [110],\n",
              "       [170]])"
            ]
          },
          "metadata": {
            "tags": []
          },
          "execution_count": 15
        }
      ]
    },
    {
      "cell_type": "markdown",
      "metadata": {
        "id": "2cnCzn7SOlq_"
      },
      "source": [
        "## Indexing"
      ]
    },
    {
      "cell_type": "code",
      "metadata": {
        "colab": {
          "base_uri": "https://localhost:8080/"
        },
        "id": "1S3DKNaHOQnC",
        "outputId": "fb8854d2-bc52-46e7-dbc5-ebd7c58b3438"
      },
      "source": [
        "X = np.random.rand(3, 2)\r\n",
        "X"
      ],
      "execution_count": 16,
      "outputs": [
        {
          "output_type": "execute_result",
          "data": {
            "text/plain": [
              "array([[0.86147946, 0.76166811],\n",
              "       [0.55230344, 0.32637119],\n",
              "       [0.12743486, 0.1161106 ]])"
            ]
          },
          "metadata": {
            "tags": []
          },
          "execution_count": 16
        }
      ]
    },
    {
      "cell_type": "code",
      "metadata": {
        "colab": {
          "base_uri": "https://localhost:8080/"
        },
        "id": "Av_dRCzEO3Yn",
        "outputId": "a0acf9ad-619e-42c3-c0dc-8e2fbd5dab57"
      },
      "source": [
        "X > 0.5"
      ],
      "execution_count": 17,
      "outputs": [
        {
          "output_type": "execute_result",
          "data": {
            "text/plain": [
              "array([[ True,  True],\n",
              "       [ True, False],\n",
              "       [False, False]])"
            ]
          },
          "metadata": {
            "tags": []
          },
          "execution_count": 17
        }
      ]
    },
    {
      "cell_type": "code",
      "metadata": {
        "colab": {
          "base_uri": "https://localhost:8080/"
        },
        "id": "MokSMNQ2O43W",
        "outputId": "4a3fdbd5-75b6-4896-dfef-e2a330a2aba8"
      },
      "source": [
        "X[X > 0.5] = 1\r\n",
        "X"
      ],
      "execution_count": 19,
      "outputs": [
        {
          "output_type": "execute_result",
          "data": {
            "text/plain": [
              "array([[1.        , 1.        ],\n",
              "       [1.        , 0.32637119],\n",
              "       [0.12743486, 0.1161106 ]])"
            ]
          },
          "metadata": {
            "tags": []
          },
          "execution_count": 19
        }
      ]
    },
    {
      "cell_type": "markdown",
      "metadata": {
        "id": "stAij_iJPCUx"
      },
      "source": [
        "# Basic Plotting"
      ]
    },
    {
      "cell_type": "code",
      "metadata": {
        "colab": {
          "base_uri": "https://localhost:8080/",
          "height": 35
        },
        "id": "Ip0_CIrTO8U-",
        "outputId": "8251f9a8-8b58-4ad8-d680-ee33a5c50b4b"
      },
      "source": [
        "import matplotlib.pyplot as plt\r\n",
        "import matplotlib\r\n",
        "plt.set_cmap('gray')\r\n",
        "matplotlib.rcParams['figure.figsize'] = (12, 8)"
      ],
      "execution_count": 36,
      "outputs": [
        {
          "output_type": "display_data",
          "data": {
            "text/plain": [
              "<Figure size 1080x576 with 0 Axes>"
            ]
          },
          "metadata": {
            "tags": []
          }
        }
      ]
    },
    {
      "cell_type": "code",
      "metadata": {
        "colab": {
          "base_uri": "https://localhost:8080/",
          "height": 495
        },
        "id": "ni7ExCFVPI2I",
        "outputId": "b4c8d663-f4c1-40fc-d145-5ab608ef7491"
      },
      "source": [
        "X = np.random.rand(100, 100)\r\n",
        "plt.matshow(X)\r\n",
        "plt.colorbar()"
      ],
      "execution_count": 37,
      "outputs": [
        {
          "output_type": "execute_result",
          "data": {
            "text/plain": [
              "<matplotlib.colorbar.Colorbar at 0x7fc42319aeb8>"
            ]
          },
          "metadata": {
            "tags": []
          },
          "execution_count": 37
        },
        {
          "output_type": "display_data",
          "data": {
            "image/png": "[encoded data removed]",
            "text/plain": [
              "<Figure size 576x576 with 2 Axes>"
            ]
          },
          "metadata": {
            "tags": [],
            "needs_background": "light"
          }
        }
      ]
    },
    {
      "cell_type": "code",
      "metadata": {
        "colab": {
          "base_uri": "https://localhost:8080/",
          "height": 501
        },
        "id": "LiSaksdcPRya",
        "outputId": "b4db73f4-e874-4623-b274-e9218ab54fa1"
      },
      "source": [
        "x = np.linspace(0, 100)\r\n",
        "y = x * 5 + 10\r\n",
        "\r\n",
        "plt.plot(x, y, 'x-')"
      ],
      "execution_count": 38,
      "outputs": [
        {
          "output_type": "execute_result",
          "data": {
            "text/plain": [
              "[<matplotlib.lines.Line2D at 0x7fc4227412b0>]"
            ]
          },
          "metadata": {
            "tags": []
          },
          "execution_count": 38
        },
        {
          "output_type": "display_data",
          "data": {
            "image/png": "[encoded data removed]",
            "text/plain": [
              "<Figure size 864x576 with 1 Axes>"
            ]
          },
          "metadata": {
            "tags": [],
            "needs_background": "light"
          }
        }
      ]
    },
    {
      "cell_type": "markdown",
      "metadata": {
        "id": "mtnFThgyPeOg"
      },
      "source": [
        "# Basic Regression with a linear model\r\n",
        "\r\n",
        "x is 1-dimensional"
      ]
    },
    {
      "cell_type": "code",
      "metadata": {
        "colab": {
          "base_uri": "https://localhost:8080/",
          "height": 519
        },
        "id": "7Fq0igscPbq-",
        "outputId": "9147464e-60c5-459c-93c7-ce8d7109fe83"
      },
      "source": [
        "n = 50\r\n",
        "\r\n",
        "d = 1\r\n",
        "X = np.random.uniform(-1, 1, (n, d))\r\n",
        "\r\n",
        "# y = 5x + 10\r\n",
        "weights_true = np.array([[5], ])\r\n",
        "bias_true = np.array([10])\r\n",
        "\r\n",
        "y_true = X @ weights_true + bias_true\r\n",
        "print(f'X: {X.shape}, Weights: {weights_true.shape}, Bias: {bias_true.shape}, y: {y_true.shape}')\r\n",
        "\r\n",
        "plt.plot(X, y_true, marker='X', label=\"Underlying Function\")\r\n",
        "plt.legend()"
      ],
      "execution_count": 39,
      "outputs": [
        {
          "output_type": "stream",
          "text": [
            "X: (50, 1), Weights: (1, 1), Bias: (1,), y: (50, 1)\n"
          ],
          "name": "stdout"
        },
        {
          "output_type": "execute_result",
          "data": {
            "text/plain": [
              "<matplotlib.legend.Legend at 0x7fc4226f8358>"
            ]
          },
          "metadata": {
            "tags": []
          },
          "execution_count": 39
        },
        {
          "output_type": "display_data",
          "data": {
            "image/png": "[encoded data removed]",
            "text/plain": [
              "<Figure size 864x576 with 1 Axes>"
            ]
          },
          "metadata": {
            "tags": [],
            "needs_background": "light"
          }
        }
      ]
    },
    {
      "cell_type": "markdown",
      "metadata": {
        "id": "dm0ucu7rR3sm"
      },
      "source": [
        "## Basic Prediction function: Linear"
      ]
    },
    {
      "cell_type": "code",
      "metadata": {
        "colab": {
          "base_uri": "https://localhost:8080/",
          "height": 501
        },
        "id": "eLLot0wRQngk",
        "outputId": "3d808ae6-f26d-4fe7-e557-5dd2b24dc972"
      },
      "source": [
        "# Initailizing our predictions\r\n",
        "\r\n",
        "\r\n",
        "class Linear:\r\n",
        "    def __init__(self, num_input, num_output=1):\r\n",
        "        # The initialization is important to properly deal with different input\r\n",
        "        # sizes (otherwise gradients quickly go to 0).\r\n",
        "        self.weights = np.random.randn(num_input, num_output) * np.sqrt(2. / num_input)\r\n",
        "        self.bias = np.zeros((1))\r\n",
        "\r\n",
        "    def __call__(self, X):\r\n",
        "        return X @ self.weights + self.bias\r\n",
        "\r\n",
        "linear = Linear(d)\r\n",
        "y_pred = linear(X)\r\n",
        "plt.plot(X, y_true, marker=\"X\", label=\"Underlying Function\")\r\n",
        "plt.scatter(X, y_pred, color='r', marker='.', label=\"Our Function\")\r\n",
        "plt.legend()"
      ],
      "execution_count": 41,
      "outputs": [
        {
          "output_type": "execute_result",
          "data": {
            "text/plain": [
              "<matplotlib.legend.Legend at 0x7fc42258f358>"
            ]
          },
          "metadata": {
            "tags": []
          },
          "execution_count": 41
        },
        {
          "output_type": "display_data",
          "data": {
            "image/png": "[encoded data removed]",
            "text/plain": [
              "<Figure size 864x576 with 1 Axes>"
            ]
          },
          "metadata": {
            "tags": [],
            "needs_background": "light"
          }
        }
      ]
    },
    {
      "cell_type": "markdown",
      "metadata": {
        "id": "RPdToeVxVMG8"
      },
      "source": [
        "## Basic Loss Function: MSE"
      ]
    },
    {
      "cell_type": "code",
      "metadata": {
        "colab": {
          "base_uri": "https://localhost:8080/"
        },
        "id": "ULn_VAryUWu4",
        "outputId": "eead0069-2bfe-4852-dd0c-9c623d06d22c"
      },
      "source": [
        "# How wrong are these initial predictions, exactly?\r\n",
        "# It's up to us, and our definition is called the loss function.\r\n",
        "# Let's use the Mean Squared Error (MSE), as our loss function.\r\n",
        "\r\n",
        "class MSE:\r\n",
        "    def __call__(self, y_pred, y_true):\r\n",
        "        self.y_pred = y_pred\r\n",
        "        self.y_true = y_true\r\n",
        "        return ((y_true - y_pred) ** 2).mean()\r\n",
        "\r\n",
        "loss = MSE()\r\n",
        "print(f'Our initial loss is {loss(y_pred, y_true)}')"
      ],
      "execution_count": 43,
      "outputs": [
        {
          "output_type": "stream",
          "text": [
            "Our initial loss is 91.85735778479949\n"
          ],
          "name": "stdout"
        }
      ]
    },
    {
      "cell_type": "code",
      "metadata": {
        "id": "bW8V6YsHVWXC"
      },
      "source": [
        ""
      ],
      "execution_count": null,
      "outputs": []
    }
  ]
}
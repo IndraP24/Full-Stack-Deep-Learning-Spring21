{
  "nbformat": 4,
  "nbformat_minor": 0,
  "metadata": {
    "colab": {
      "name": "Part 1: Basics | Coding a Neural Network",
      "provenance": [],
      "collapsed_sections": [],
      "authorship_tag": "ABX9TyNQ+z3o+WfLOFuL4qy9CmwP",
      "include_colab_link": true
    },
    "kernelspec": {
      "name": "python3",
      "display_name": "Python 3"
    }
  },
  "cells": [
    {
      "cell_type": "markdown",
      "metadata": {
        "id": "view-in-github",
        "colab_type": "text"
      },
      "source": [
        "<a href=\"https://colab.research.google.com/github/IndraP24/Full-Stack-Deep-Learning-Spring21/blob/main/Deep%20Learning%20Fundamentals/Part%201%20Basics%20%7C%20Coding%20a%20Neural%20Network.ipynb\" target=\"_parent\"><img src=\"https://colab.research.google.com/assets/colab-badge.svg\" alt=\"Open In Colab\"/></a>"
      ]
    },
    {
      "cell_type": "markdown",
      "metadata": {
        "id": "-IU6zLnMKPbW"
      },
      "source": [
        "# Deep Learning Fundamentals - Part 1\r\n",
        "\r\n",
        "```\r\n",
        "# This is treated as a code block\r\n",
        "```\r\n",
        "---"
      ]
    },
    {
      "cell_type": "markdown",
      "metadata": {
        "id": "9HPLXzZHKU52"
      },
      "source": [
        "# Colab environment"
      ]
    },
    {
      "cell_type": "code",
      "metadata": {
        "colab": {
          "base_uri": "https://localhost:8080/"
        },
        "id": "MnswsGKnHyxQ",
        "outputId": "5b3d8216-c4be-436a-c01f-e98d1e10aef1"
      },
      "source": [
        "!python --version"
      ],
      "execution_count": 1,
      "outputs": [
        {
          "output_type": "stream",
          "text": [
            "Python 3.7.10\n"
          ],
          "name": "stdout"
        }
      ]
    },
    {
      "cell_type": "code",
      "metadata": {
        "colab": {
          "base_uri": "https://localhost:8080/"
        },
        "id": "W_fRTwIjKd4v",
        "outputId": "8dc9a1b1-7b61-4058-9962-41b91dc4d413"
      },
      "source": [
        "!pip list | grep tensor"
      ],
      "execution_count": 2,
      "outputs": [
        {
          "output_type": "stream",
          "text": [
            "tensorboard                   2.4.1         \n",
            "tensorboard-plugin-wit        1.8.0         \n",
            "tensorflow                    2.4.1         \n",
            "tensorflow-datasets           4.0.1         \n",
            "tensorflow-estimator          2.4.0         \n",
            "tensorflow-gcs-config         2.4.0         \n",
            "tensorflow-hub                0.11.0        \n",
            "tensorflow-metadata           0.28.0        \n",
            "tensorflow-probability        0.12.1        \n"
          ],
          "name": "stdout"
        }
      ]
    },
    {
      "cell_type": "code",
      "metadata": {
        "colab": {
          "base_uri": "https://localhost:8080/"
        },
        "id": "pcyLYYFsKjC6",
        "outputId": "c6f5698d-6660-4e84-bc5a-3b716b700cb2"
      },
      "source": [
        "!pip list | grep torch"
      ],
      "execution_count": 3,
      "outputs": [
        {
          "output_type": "stream",
          "text": [
            "torch                         1.7.1+cu101   \n",
            "torchsummary                  1.5.1         \n",
            "torchtext                     0.3.1         \n",
            "torchvision                   0.8.2+cu101   \n"
          ],
          "name": "stdout"
        }
      ]
    },
    {
      "cell_type": "code",
      "metadata": {
        "colab": {
          "base_uri": "https://localhost:8080/"
        },
        "id": "odKNjqC9KosU",
        "outputId": "169f19e1-cf18-4438-c844-db4feb38101a"
      },
      "source": [
        "!nvidia-smi"
      ],
      "execution_count": 4,
      "outputs": [
        {
          "output_type": "stream",
          "text": [
            "NVIDIA-SMI has failed because it couldn't communicate with the NVIDIA driver. Make sure that the latest NVIDIA driver is installed and running.\n",
            "\n"
          ],
          "name": "stdout"
        }
      ]
    },
    {
      "cell_type": "markdown",
      "metadata": {
        "id": "lCvoagK2OiB8"
      },
      "source": [
        "# Basic Numerical Computing"
      ]
    },
    {
      "cell_type": "code",
      "metadata": {
        "colab": {
          "base_uri": "https://localhost:8080/"
        },
        "id": "n7OlFu2NKuSL",
        "outputId": "2c88b594-8165-449c-a6eb-e1c7ea4cf67b"
      },
      "source": [
        "import numpy as np\r\n",
        "\r\n",
        "# Initialize a numpy ndarray 3 rows , 2 cols\r\n",
        "X = np.zeros((3, 2))\r\n",
        "X"
      ],
      "execution_count": 5,
      "outputs": [
        {
          "output_type": "execute_result",
          "data": {
            "text/plain": [
              "array([[0., 0.],\n",
              "       [0., 0.],\n",
              "       [0., 0.]])"
            ]
          },
          "metadata": {
            "tags": []
          },
          "execution_count": 5
        }
      ]
    },
    {
      "cell_type": "code",
      "metadata": {
        "colab": {
          "base_uri": "https://localhost:8080/"
        },
        "id": "nkoGWo36MM2Y",
        "outputId": "854c8f1a-974e-49bf-afef-6df4a568c6b6"
      },
      "source": [
        "# By default, ndarrays are float64\r\n",
        "X.shape, X.dtype"
      ],
      "execution_count": 6,
      "outputs": [
        {
          "output_type": "execute_result",
          "data": {
            "text/plain": [
              "((3, 2), dtype('float64'))"
            ]
          },
          "metadata": {
            "tags": []
          },
          "execution_count": 6
        }
      ]
    },
    {
      "cell_type": "code",
      "metadata": {
        "colab": {
          "base_uri": "https://localhost:8080/"
        },
        "id": "8juYoao_MShZ",
        "outputId": "dccf1976-58f9-49c7-b3ae-fdb8779fd8cc"
      },
      "source": [
        "# We can set values of a whole row\r\n",
        "X[0, :] = 1\r\n",
        "X"
      ],
      "execution_count": 7,
      "outputs": [
        {
          "output_type": "execute_result",
          "data": {
            "text/plain": [
              "array([[1., 1.],\n",
              "       [0., 0.],\n",
              "       [0., 0.]])"
            ]
          },
          "metadata": {
            "tags": []
          },
          "execution_count": 7
        }
      ]
    },
    {
      "cell_type": "code",
      "metadata": {
        "colab": {
          "base_uri": "https://localhost:8080/"
        },
        "id": "4IbhtboOMred",
        "outputId": "56911922-80d6-4644-faa6-5591ee60e20d"
      },
      "source": [
        "# We can set values of a whole colummn\r\n",
        "X[:, 0] = 2\r\n",
        "X"
      ],
      "execution_count": 8,
      "outputs": [
        {
          "output_type": "execute_result",
          "data": {
            "text/plain": [
              "array([[2., 1.],\n",
              "       [2., 0.],\n",
              "       [2., 0.]])"
            ]
          },
          "metadata": {
            "tags": []
          },
          "execution_count": 8
        }
      ]
    },
    {
      "cell_type": "code",
      "metadata": {
        "colab": {
          "base_uri": "https://localhost:8080/"
        },
        "id": "UBBpmB1eNBFr",
        "outputId": "523363d1-56b9-47d5-ead1-a9c47dd2eb8a"
      },
      "source": [
        "X = np.array([\r\n",
        "              [1, 2],\r\n",
        "              [3, 4],\r\n",
        "              [5, 6]\r\n",
        "])\r\n",
        "X"
      ],
      "execution_count": 9,
      "outputs": [
        {
          "output_type": "execute_result",
          "data": {
            "text/plain": [
              "array([[1, 2],\n",
              "       [3, 4],\n",
              "       [5, 6]])"
            ]
          },
          "metadata": {
            "tags": []
          },
          "execution_count": 9
        }
      ]
    },
    {
      "cell_type": "code",
      "metadata": {
        "colab": {
          "base_uri": "https://localhost:8080/"
        },
        "id": "E6g52EbVNNCM",
        "outputId": "66727a4d-4108-4688-96ab-a414d6dd101a"
      },
      "source": [
        "x = np.array([10, 20])\r\n",
        "print(X.shape, x.shape)\r\n",
        "\r\n",
        "# We can add ndarrays of different dimensions\r\n",
        "X + x #Broadcasting"
      ],
      "execution_count": 10,
      "outputs": [
        {
          "output_type": "stream",
          "text": [
            "(3, 2) (2,)\n"
          ],
          "name": "stdout"
        },
        {
          "output_type": "execute_result",
          "data": {
            "text/plain": [
              "array([[11, 22],\n",
              "       [13, 24],\n",
              "       [15, 26]])"
            ]
          },
          "metadata": {
            "tags": []
          },
          "execution_count": 10
        }
      ]
    },
    {
      "cell_type": "code",
      "metadata": {
        "colab": {
          "base_uri": "https://localhost:8080/"
        },
        "id": "L_NsyQQiNbme",
        "outputId": "8ee83538-ee93-4530-e071-feee3b62c4b6"
      },
      "source": [
        "# Element-wise multiplication\r\n",
        "\r\n",
        "X * x"
      ],
      "execution_count": 11,
      "outputs": [
        {
          "output_type": "execute_result",
          "data": {
            "text/plain": [
              "array([[ 10,  40],\n",
              "       [ 30,  80],\n",
              "       [ 50, 120]])"
            ]
          },
          "metadata": {
            "tags": []
          },
          "execution_count": 11
        }
      ]
    },
    {
      "cell_type": "code",
      "metadata": {
        "colab": {
          "base_uri": "https://localhost:8080/"
        },
        "id": "SYKw-rhYOGj_",
        "outputId": "562c23c2-b4d9-434b-df1c-5814806fd0ef"
      },
      "source": [
        "# Matrix multiplication\r\n",
        "\r\n",
        "x = np.array([[10, 20], ]).T\r\n",
        "result = X @ x # alternatively, np.dot(X, x)\r\n",
        "result"
      ],
      "execution_count": 12,
      "outputs": [
        {
          "output_type": "execute_result",
          "data": {
            "text/plain": [
              "array([[ 50],\n",
              "       [110],\n",
              "       [170]])"
            ]
          },
          "metadata": {
            "tags": []
          },
          "execution_count": 12
        }
      ]
    },
    {
      "cell_type": "markdown",
      "metadata": {
        "id": "2cnCzn7SOlq_"
      },
      "source": [
        "## Indexing"
      ]
    },
    {
      "cell_type": "code",
      "metadata": {
        "colab": {
          "base_uri": "https://localhost:8080/"
        },
        "id": "1S3DKNaHOQnC",
        "outputId": "de4084e4-9e05-4433-bb36-6a5a157e9950"
      },
      "source": [
        "X = np.random.rand(3, 2)\r\n",
        "X"
      ],
      "execution_count": 13,
      "outputs": [
        {
          "output_type": "execute_result",
          "data": {
            "text/plain": [
              "array([[0.54147247, 0.42573069],\n",
              "       [0.00220206, 0.86192109],\n",
              "       [0.74814118, 0.98280585]])"
            ]
          },
          "metadata": {
            "tags": []
          },
          "execution_count": 13
        }
      ]
    },
    {
      "cell_type": "code",
      "metadata": {
        "colab": {
          "base_uri": "https://localhost:8080/"
        },
        "id": "Av_dRCzEO3Yn",
        "outputId": "ce41f1b7-df16-4e99-a525-141adc6eec3e"
      },
      "source": [
        "X > 0.5"
      ],
      "execution_count": 14,
      "outputs": [
        {
          "output_type": "execute_result",
          "data": {
            "text/plain": [
              "array([[ True, False],\n",
              "       [False,  True],\n",
              "       [ True,  True]])"
            ]
          },
          "metadata": {
            "tags": []
          },
          "execution_count": 14
        }
      ]
    },
    {
      "cell_type": "code",
      "metadata": {
        "colab": {
          "base_uri": "https://localhost:8080/"
        },
        "id": "MokSMNQ2O43W",
        "outputId": "13689700-0a53-4258-c1a8-9ee30402acb5"
      },
      "source": [
        "X[X > 0.5] = 1\r\n",
        "X"
      ],
      "execution_count": 15,
      "outputs": [
        {
          "output_type": "execute_result",
          "data": {
            "text/plain": [
              "array([[1.        , 0.42573069],\n",
              "       [0.00220206, 1.        ],\n",
              "       [1.        , 1.        ]])"
            ]
          },
          "metadata": {
            "tags": []
          },
          "execution_count": 15
        }
      ]
    },
    {
      "cell_type": "markdown",
      "metadata": {
        "id": "stAij_iJPCUx"
      },
      "source": [
        "# Basic Plotting"
      ]
    },
    {
      "cell_type": "code",
      "metadata": {
        "colab": {
          "base_uri": "https://localhost:8080/",
          "height": 35
        },
        "id": "Ip0_CIrTO8U-",
        "outputId": "29d0dbd3-5fad-4882-eebd-600cfbfb4a70"
      },
      "source": [
        "import matplotlib.pyplot as plt\r\n",
        "import matplotlib\r\n",
        "plt.set_cmap('gray')\r\n",
        "matplotlib.rcParams['figure.figsize'] = (12, 8)"
      ],
      "execution_count": 16,
      "outputs": [
        {
          "output_type": "display_data",
          "data": {
            "text/plain": [
              "<Figure size 432x288 with 0 Axes>"
            ]
          },
          "metadata": {
            "tags": []
          }
        }
      ]
    },
    {
      "cell_type": "code",
      "metadata": {
        "colab": {
          "base_uri": "https://localhost:8080/",
          "height": 495
        },
        "id": "ni7ExCFVPI2I",
        "outputId": "26b13cf7-27ce-4981-9c93-eef18e15b2dc"
      },
      "source": [
        "X = np.random.rand(100, 100)\r\n",
        "plt.matshow(X)\r\n",
        "plt.colorbar()"
      ],
      "execution_count": 17,
      "outputs": [
        {
          "output_type": "execute_result",
          "data": {
            "text/plain": [
              "<matplotlib.colorbar.Colorbar at 0x7f63f3565cd0>"
            ]
          },
          "metadata": {
            "tags": []
          },
          "execution_count": 17
        },
        {
          "output_type": "display_data",
          "data": {
            "image/png": "[encoded data removed]",
            "text/plain": [
              "<Figure size 576x576 with 2 Axes>"
            ]
          },
          "metadata": {
            "tags": [],
            "needs_background": "light"
          }
        }
      ]
    },
    {
      "cell_type": "code",
      "metadata": {
        "colab": {
          "base_uri": "https://localhost:8080/",
          "height": 501
        },
        "id": "LiSaksdcPRya",
        "outputId": "ff373c8e-116e-427b-dd70-1f0cce4a49f2"
      },
      "source": [
        "x = np.linspace(0, 100)\r\n",
        "y = x * 5 + 10\r\n",
        "\r\n",
        "plt.plot(x, y, 'x-')"
      ],
      "execution_count": 18,
      "outputs": [
        {
          "output_type": "execute_result",
          "data": {
            "text/plain": [
              "[<matplotlib.lines.Line2D at 0x7f63f301e590>]"
            ]
          },
          "metadata": {
            "tags": []
          },
          "execution_count": 18
        },
        {
          "output_type": "display_data",
          "data": {
            "image/png": "[encoded data removed]",
            "text/plain": [
              "<Figure size 864x576 with 1 Axes>"
            ]
          },
          "metadata": {
            "tags": [],
            "needs_background": "light"
          }
        }
      ]
    },
    {
      "cell_type": "markdown",
      "metadata": {
        "id": "mtnFThgyPeOg"
      },
      "source": [
        "# Basic Regression with a linear model\r\n",
        "\r\n",
        "x is 1-dimensional"
      ]
    },
    {
      "cell_type": "code",
      "metadata": {
        "colab": {
          "base_uri": "https://localhost:8080/",
          "height": 519
        },
        "id": "7Fq0igscPbq-",
        "outputId": "d2f7c328-6853-4515-9d46-40615b53f88f"
      },
      "source": [
        "n = 50\r\n",
        "\r\n",
        "d = 1\r\n",
        "X = np.random.uniform(-1, 1, (n, d))\r\n",
        "\r\n",
        "# y = 5x + 10\r\n",
        "weights_true = np.array([[5], ])\r\n",
        "bias_true = np.array([10])\r\n",
        "\r\n",
        "y_true = X @ weights_true + bias_true\r\n",
        "print(f'X: {X.shape}, Weights: {weights_true.shape}, Bias: {bias_true.shape}, y: {y_true.shape}')\r\n",
        "\r\n",
        "plt.plot(X, y_true, marker='X', label=\"Underlying Function\")\r\n",
        "plt.legend()"
      ],
      "execution_count": 19,
      "outputs": [
        {
          "output_type": "stream",
          "text": [
            "X: (50, 1), Weights: (1, 1), Bias: (1,), y: (50, 1)\n"
          ],
          "name": "stdout"
        },
        {
          "output_type": "execute_result",
          "data": {
            "text/plain": [
              "<matplotlib.legend.Legend at 0x7f63f2fe1fd0>"
            ]
          },
          "metadata": {
            "tags": []
          },
          "execution_count": 19
        },
        {
          "output_type": "display_data",
          "data": {
            "image/png": "[encoded data removed]",
            "text/plain": [
              "<Figure size 864x576 with 1 Axes>"
            ]
          },
          "metadata": {
            "tags": [],
            "needs_background": "light"
          }
        }
      ]
    },
    {
      "cell_type": "markdown",
      "metadata": {
        "id": "dm0ucu7rR3sm"
      },
      "source": [
        "## Basic Prediction function: Linear"
      ]
    },
    {
      "cell_type": "code",
      "metadata": {
        "colab": {
          "base_uri": "https://localhost:8080/",
          "height": 501
        },
        "id": "eLLot0wRQngk",
        "outputId": "fb245dc4-c9ff-4585-9be6-1ea2772e93b1"
      },
      "source": [
        "# Initailizing our predictions\r\n",
        "\r\n",
        "\r\n",
        "class Linear:\r\n",
        "    def __init__(self, num_input, num_output=1):\r\n",
        "        # The initialization is important to properly deal with different input\r\n",
        "        # sizes (otherwise gradients quickly go to 0).\r\n",
        "        self.weights = np.random.randn(num_input, num_output) * np.sqrt(2. / num_input)\r\n",
        "        self.bias = np.zeros((1))\r\n",
        "\r\n",
        "    def __call__(self, X):\r\n",
        "        return X @ self.weights + self.bias\r\n",
        "\r\n",
        "linear = Linear(d)\r\n",
        "y_pred = linear(X)\r\n",
        "plt.plot(X, y_true, marker=\"X\", label=\"Underlying Function\")\r\n",
        "plt.scatter(X, y_pred, color='r', marker='.', label=\"Our Function\")\r\n",
        "plt.legend()"
      ],
      "execution_count": 20,
      "outputs": [
        {
          "output_type": "execute_result",
          "data": {
            "text/plain": [
              "<matplotlib.legend.Legend at 0x7f63f2f19e50>"
            ]
          },
          "metadata": {
            "tags": []
          },
          "execution_count": 20
        },
        {
          "output_type": "display_data",
          "data": {
            "image/png": "[encoded data removed]",
            "text/plain": [
              "<Figure size 864x576 with 1 Axes>"
            ]
          },
          "metadata": {
            "tags": [],
            "needs_background": "light"
          }
        }
      ]
    },
    {
      "cell_type": "markdown",
      "metadata": {
        "id": "RPdToeVxVMG8"
      },
      "source": [
        "## Basic Loss Function: MSE"
      ]
    },
    {
      "cell_type": "code",
      "metadata": {
        "colab": {
          "base_uri": "https://localhost:8080/"
        },
        "id": "ULn_VAryUWu4",
        "outputId": "b6cf3b49-67b7-436d-d2cb-6f161afea655"
      },
      "source": [
        "# How wrong are these initial predictions, exactly?\r\n",
        "# It's up to us, and our definition is called the loss function.\r\n",
        "# Let's use the Mean Squared Error (MSE), as our loss function.\r\n",
        "\r\n",
        "class MSE:\r\n",
        "    def __call__(self, y_pred, y_true):\r\n",
        "        self.y_pred = y_pred\r\n",
        "        self.y_true = y_true\r\n",
        "        return ((y_true - y_pred) ** 2).mean()\r\n",
        "\r\n",
        "loss = MSE()\r\n",
        "print(f'Our initial loss is {loss(y_pred, y_true)}')"
      ],
      "execution_count": 21,
      "outputs": [
        {
          "output_type": "stream",
          "text": [
            "Our initial loss is 103.97036319821767\n"
          ],
          "name": "stdout"
        }
      ]
    },
    {
      "cell_type": "markdown",
      "metadata": {
        "id": "GppH8ECnYjJp"
      },
      "source": [
        "## Back propagation"
      ]
    },
    {
      "cell_type": "code",
      "metadata": {
        "id": "bW8V6YsHVWXC"
      },
      "source": [
        "# Let's use gradient descent to learn the weights and bias that minimizes the loss function.\r\n",
        "# For this, we need the gradient of the loss function and the gradients of the linear function.\r\n",
        "\r\n",
        "class MSE:\r\n",
        "    def __call__(self, y_pred, y_true):\r\n",
        "        self.y_pred = y_pred\r\n",
        "        self.y_true = y_true\r\n",
        "        return ((y_pred - y_true) ** 2).mean()\r\n",
        "\r\n",
        "    def backward(self):\r\n",
        "        n = self.y_true.shape[0]\r\n",
        "        self.gradient = 2. * (self.y_pred - self.y_true) / n\r\n",
        "        return self.gradient\r\n",
        "\r\n",
        "\r\n",
        "class Linear:\r\n",
        "    def __init__(self, input_dim: int, num_hidden: int = 1):\r\n",
        "        self.weights = np.random.randn(input_dim, num_hidden) - 0.5\r\n",
        "        self.bias = np.random.randn(1) - 0.5\r\n",
        "\r\n",
        "    def __call__(self, X):\r\n",
        "        self.X = X\r\n",
        "        output = X @ self.weights + self.bias\r\n",
        "        return output\r\n",
        "\r\n",
        "    # y = w*x + b\r\n",
        "    # dy/dx = w\r\n",
        "    # dy/dw = X\r\n",
        "    # dy/db = 1\r\n",
        "\r\n",
        "    def backward(self, gradient):\r\n",
        "        self.weights_gradient = self.X.T @ gradient\r\n",
        "        self.bias_gradient = gradient.sum()\r\n",
        "        self.X_gradient = gradient @ self.weights.T\r\n",
        "        return self.X_gradient\r\n",
        "\r\n",
        "    def update(self, lr):\r\n",
        "        self.weights = self.weights - lr * self.weights_gradient\r\n",
        "        self.bias = self.bias - lr * self.bias_gradient"
      ],
      "execution_count": 22,
      "outputs": []
    },
    {
      "cell_type": "code",
      "metadata": {
        "colab": {
          "base_uri": "https://localhost:8080/"
        },
        "id": "A8mbVKONbw-L",
        "outputId": "2c225044-12e5-4f45-9f04-c771597797bc"
      },
      "source": [
        "# Taking one step forward and one step backward to make sure nothing breaks, \r\n",
        "# and that the loss decreases\r\n",
        "\r\n",
        "loss = MSE()\r\n",
        "linear = Linear(d)\r\n",
        "y_pred = linear(X)\r\n",
        "print(loss(y_pred, y_true))\r\n",
        "loss_gradient = loss.backward()\r\n",
        "linear.backward(loss_gradient)\r\n",
        "linear.update(0.1)\r\n",
        "y_pred = linear(X)\r\n",
        "print(loss(y_pred, y_true))"
      ],
      "execution_count": 23,
      "outputs": [
        {
          "output_type": "stream",
          "text": [
            "107.97971909150827\n",
            "71.99912915410613\n"
          ],
          "name": "stdout"
        }
      ]
    },
    {
      "cell_type": "markdown",
      "metadata": {
        "id": "UOwHGRlXctN4"
      },
      "source": [
        "## Train using Gradient Descent"
      ]
    },
    {
      "cell_type": "code",
      "metadata": {
        "id": "AYajY9pTcbmB"
      },
      "source": [
        ""
      ],
      "execution_count": null,
      "outputs": []
    }
  ]
}